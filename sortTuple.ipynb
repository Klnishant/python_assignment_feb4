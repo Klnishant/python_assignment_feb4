{
 "cells": [
  {
   "cell_type": "code",
   "execution_count": 7,
   "id": "1debb2c9-f664-4c3a-a325-7a06e97c58f8",
   "metadata": {},
   "outputs": [
    {
     "name": "stdout",
     "output_type": "stream",
     "text": [
      "[('Virat Kohli', 24936), ('Virat Kohli', 24936), ('Virat Kohli', 24936), ('Virat Kohli', 24936)]\n"
     ]
    }
   ],
   "source": [
    "tupe = [('Sachin Tendulkar',34357),('Ricky Ponting',27483),('Jack Kallis',25534),('Virat Kohli',24936)]\n",
    "length = len(tupe)\n",
    "def sorting(tupe) :\n",
    "    for i in range(0,length) :\n",
    "        for j in range(0,length-i-1) :\n",
    "            if tupe[j][1] > tupe[j+1][1] :\n",
    "                temp = tupe[j][1]\n",
    "                tupe[j] = tupe[j+1]\n",
    "                tupe[j+1] = tupe[j]\n",
    "    return tupe\n",
    "print(sorting(tupe))"
   ]
  },
  {
   "cell_type": "code",
   "execution_count": null,
   "id": "04978a26-d50e-4ac5-be29-b783da69eaeb",
   "metadata": {},
   "outputs": [],
   "source": []
  },
  {
   "cell_type": "code",
   "execution_count": null,
   "id": "20463778-05dc-4276-9e13-04f7d02b14c5",
   "metadata": {},
   "outputs": [],
   "source": []
  }
 ],
 "metadata": {
  "kernelspec": {
   "display_name": "Python 3 (ipykernel)",
   "language": "python",
   "name": "python3"
  },
  "language_info": {
   "codemirror_mode": {
    "name": "ipython",
    "version": 3
   },
   "file_extension": ".py",
   "mimetype": "text/x-python",
   "name": "python",
   "nbconvert_exporter": "python",
   "pygments_lexer": "ipython3",
   "version": "3.10.8"
  }
 },
 "nbformat": 4,
 "nbformat_minor": 5
}

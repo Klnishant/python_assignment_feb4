{
 "cells": [
  {
   "cell_type": "code",
   "execution_count": 1,
   "id": "53e00d47-f2c7-45e3-a9bf-e338e62c6979",
   "metadata": {},
   "outputs": [
    {
     "name": "stdout",
     "output_type": "stream",
     "text": [
      "[1, 4, 9, 16, 25, 36, 49, 64, 81, 100]\n"
     ]
    }
   ],
   "source": [
    "l = [1,2,3,4,5,6,7,8,9,10]\n",
    "\n",
    "lSqure = list(map(lambda x : x**2,l))\n",
    "print(lSqure)"
   ]
  },
  {
   "cell_type": "code",
   "execution_count": null,
   "id": "7549e3ee-ab9a-4c5e-a1fb-a5583e4e5830",
   "metadata": {},
   "outputs": [],
   "source": []
  }
 ],
 "metadata": {
  "kernelspec": {
   "display_name": "Python 3 (ipykernel)",
   "language": "python",
   "name": "python3"
  },
  "language_info": {
   "codemirror_mode": {
    "name": "ipython",
    "version": 3
   },
   "file_extension": ".py",
   "mimetype": "text/x-python",
   "name": "python",
   "nbconvert_exporter": "python",
   "pygments_lexer": "ipython3",
   "version": "3.10.8"
  }
 },
 "nbformat": 4,
 "nbformat_minor": 5
}
